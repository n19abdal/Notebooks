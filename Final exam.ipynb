{
    "cells": [
        {
            "cell_type": "markdown",
            "metadata": {
                "button": false,
                "new_sheet": false,
                "run_control": {
                    "read_only": false
                }
            },
            "source": "<center>\n    <img src=\"https://cf-courses-data.s3.us.cloud-object-storage.appdomain.cloud/IBMDeveloperSkillsNetwork-ML0101EN-SkillsNetwork/labs/FinalModule_Coursera/images/IDSNlogo.png\" width=\"300\" alt=\"cognitiveclass.ai logo\"  />\n</center>\n\n<h1 align=\"center\"><font size=\"5\">Classification with Python</font></h1>\n"
        },
        {
            "cell_type": "markdown",
            "metadata": {
                "button": false,
                "new_sheet": false,
                "run_control": {
                    "read_only": false
                }
            },
            "source": "In this notebook we try to practice all the classification algorithms that we have learned in this course.\n\nWe load a dataset using Pandas library, and apply the following algorithms, and find the best one for this specific dataset by accuracy evaluation methods.\n\nLet's first load required libraries:\n"
        },
        {
            "cell_type": "code",
            "execution_count": 1,
            "metadata": {
                "button": false,
                "new_sheet": false,
                "run_control": {
                    "read_only": false
                }
            },
            "outputs": [],
            "source": "import itertools\nimport numpy as np\nimport matplotlib.pyplot as plt\nfrom matplotlib.ticker import NullFormatter\nimport pandas as pd\nimport numpy as np\nimport matplotlib.ticker as ticker\nfrom sklearn import preprocessing\n%matplotlib inline"
        },
        {
            "cell_type": "markdown",
            "metadata": {
                "button": false,
                "new_sheet": false,
                "run_control": {
                    "read_only": false
                }
            },
            "source": "### About dataset\n"
        },
        {
            "cell_type": "markdown",
            "metadata": {
                "button": false,
                "new_sheet": false,
                "run_control": {
                    "read_only": false
                }
            },
            "source": "This dataset is about past loans. The **Loan_train.csv** data set includes details of 346 customers whose loan are already paid off or defaulted. It includes following fields:\n\n| Field          | Description                                                                           |\n|----------------|---------------------------------------------------------------------------------------|\n| Loan_status    | Whether a loan is paid off on in collection                                           |\n| Principal      | Basic principal loan amount at the                                                    |\n| Terms          | Origination terms which can be weekly (7 days), biweekly, and monthly payoff schedule |\n| Effective_date | When the loan got originated and took effects                                         |\n| Due_date       | Since it\u2019s one-time payoff schedule, each loan has one single due date                |\n| Age            | Age of applicant                                                                      |\n| Education      | Education of applicant                                                                |\n| Gender         | The gender of applicant                                                               |\n"
        },
        {
            "cell_type": "markdown",
            "metadata": {
                "button": false,
                "new_sheet": false,
                "run_control": {
                    "read_only": false
                }
            },
            "source": "Let's download the dataset\n"
        },
        {
            "cell_type": "code",
            "execution_count": 2,
            "metadata": {
                "button": false,
                "new_sheet": false,
                "run_control": {
                    "read_only": false
                }
            },
            "outputs": [
                {
                    "name": "stdout",
                    "output_type": "stream",
                    "text": "--2021-07-06 23:41:09--  https://cf-courses-data.s3.us.cloud-object-storage.appdomain.cloud/IBMDeveloperSkillsNetwork-ML0101EN-SkillsNetwork/labs/FinalModule_Coursera/data/loan_train.csv\nResolving cf-courses-data.s3.us.cloud-object-storage.appdomain.cloud (cf-courses-data.s3.us.cloud-object-storage.appdomain.cloud)... 169.63.118.104\nConnecting to cf-courses-data.s3.us.cloud-object-storage.appdomain.cloud (cf-courses-data.s3.us.cloud-object-storage.appdomain.cloud)|169.63.118.104|:443... connected.\nHTTP request sent, awaiting response... 200 OK\nLength: 23101 (23K) [text/csv]\nSaving to: \u2018loan_train.csv\u2019\n\nloan_train.csv      100%[===================>]  22.56K  --.-KB/s    in 0s      \n\n2021-07-06 23:41:09 (158 MB/s) - \u2018loan_train.csv\u2019 saved [23101/23101]\n\n"
                }
            ],
            "source": "!wget -O loan_train.csv https://cf-courses-data.s3.us.cloud-object-storage.appdomain.cloud/IBMDeveloperSkillsNetwork-ML0101EN-SkillsNetwork/labs/FinalModule_Coursera/data/loan_train.csv"
        },
        {
            "cell_type": "markdown",
            "metadata": {
                "button": false,
                "new_sheet": false,
                "run_control": {
                    "read_only": false
                }
            },
            "source": "### Load Data From CSV File\n"
        },
        {
            "cell_type": "code",
            "execution_count": 3,
            "metadata": {
                "button": false,
                "new_sheet": false,
                "run_control": {
                    "read_only": false
                }
            },
            "outputs": [
                {
                    "data": {
                        "text/html": "<div>\n<style scoped>\n    .dataframe tbody tr th:only-of-type {\n        vertical-align: middle;\n    }\n\n    .dataframe tbody tr th {\n        vertical-align: top;\n    }\n\n    .dataframe thead th {\n        text-align: right;\n    }\n</style>\n<table border=\"1\" class=\"dataframe\">\n  <thead>\n    <tr style=\"text-align: right;\">\n      <th></th>\n      <th>Unnamed: 0</th>\n      <th>Unnamed: 0.1</th>\n      <th>loan_status</th>\n      <th>Principal</th>\n      <th>terms</th>\n      <th>effective_date</th>\n      <th>due_date</th>\n      <th>age</th>\n      <th>education</th>\n      <th>Gender</th>\n    </tr>\n  </thead>\n  <tbody>\n    <tr>\n      <th>0</th>\n      <td>0</td>\n      <td>0</td>\n      <td>PAIDOFF</td>\n      <td>1000</td>\n      <td>30</td>\n      <td>9/8/2016</td>\n      <td>10/7/2016</td>\n      <td>45</td>\n      <td>High School or Below</td>\n      <td>male</td>\n    </tr>\n    <tr>\n      <th>1</th>\n      <td>2</td>\n      <td>2</td>\n      <td>PAIDOFF</td>\n      <td>1000</td>\n      <td>30</td>\n      <td>9/8/2016</td>\n      <td>10/7/2016</td>\n      <td>33</td>\n      <td>Bechalor</td>\n      <td>female</td>\n    </tr>\n    <tr>\n      <th>2</th>\n      <td>3</td>\n      <td>3</td>\n      <td>PAIDOFF</td>\n      <td>1000</td>\n      <td>15</td>\n      <td>9/8/2016</td>\n      <td>9/22/2016</td>\n      <td>27</td>\n      <td>college</td>\n      <td>male</td>\n    </tr>\n    <tr>\n      <th>3</th>\n      <td>4</td>\n      <td>4</td>\n      <td>PAIDOFF</td>\n      <td>1000</td>\n      <td>30</td>\n      <td>9/9/2016</td>\n      <td>10/8/2016</td>\n      <td>28</td>\n      <td>college</td>\n      <td>female</td>\n    </tr>\n    <tr>\n      <th>4</th>\n      <td>6</td>\n      <td>6</td>\n      <td>PAIDOFF</td>\n      <td>1000</td>\n      <td>30</td>\n      <td>9/9/2016</td>\n      <td>10/8/2016</td>\n      <td>29</td>\n      <td>college</td>\n      <td>male</td>\n    </tr>\n  </tbody>\n</table>\n</div>",
                        "text/plain": "   Unnamed: 0  Unnamed: 0.1 loan_status  Principal  terms effective_date  \\\n0           0             0     PAIDOFF       1000     30       9/8/2016   \n1           2             2     PAIDOFF       1000     30       9/8/2016   \n2           3             3     PAIDOFF       1000     15       9/8/2016   \n3           4             4     PAIDOFF       1000     30       9/9/2016   \n4           6             6     PAIDOFF       1000     30       9/9/2016   \n\n    due_date  age             education  Gender  \n0  10/7/2016   45  High School or Below    male  \n1  10/7/2016   33              Bechalor  female  \n2  9/22/2016   27               college    male  \n3  10/8/2016   28               college  female  \n4  10/8/2016   29               college    male  "
                    },
                    "execution_count": 3,
                    "metadata": {},
                    "output_type": "execute_result"
                }
            ],
            "source": "df = pd.read_csv('loan_train.csv')\ndf.head()"
        },
        {
            "cell_type": "code",
            "execution_count": 4,
            "metadata": {},
            "outputs": [
                {
                    "data": {
                        "text/plain": "(346, 10)"
                    },
                    "execution_count": 4,
                    "metadata": {},
                    "output_type": "execute_result"
                }
            ],
            "source": "df.shape"
        },
        {
            "cell_type": "markdown",
            "metadata": {
                "button": false,
                "new_sheet": false,
                "run_control": {
                    "read_only": false
                }
            },
            "source": "### Convert to date time object\n"
        },
        {
            "cell_type": "code",
            "execution_count": 5,
            "metadata": {
                "button": false,
                "new_sheet": false,
                "run_control": {
                    "read_only": false
                }
            },
            "outputs": [
                {
                    "data": {
                        "text/html": "<div>\n<style scoped>\n    .dataframe tbody tr th:only-of-type {\n        vertical-align: middle;\n    }\n\n    .dataframe tbody tr th {\n        vertical-align: top;\n    }\n\n    .dataframe thead th {\n        text-align: right;\n    }\n</style>\n<table border=\"1\" class=\"dataframe\">\n  <thead>\n    <tr style=\"text-align: right;\">\n      <th></th>\n      <th>Unnamed: 0</th>\n      <th>Unnamed: 0.1</th>\n      <th>loan_status</th>\n      <th>Principal</th>\n      <th>terms</th>\n      <th>effective_date</th>\n      <th>due_date</th>\n      <th>age</th>\n      <th>education</th>\n      <th>Gender</th>\n    </tr>\n  </thead>\n  <tbody>\n    <tr>\n      <th>0</th>\n      <td>0</td>\n      <td>0</td>\n      <td>PAIDOFF</td>\n      <td>1000</td>\n      <td>30</td>\n      <td>2016-09-08</td>\n      <td>2016-10-07</td>\n      <td>45</td>\n      <td>High School or Below</td>\n      <td>male</td>\n    </tr>\n    <tr>\n      <th>1</th>\n      <td>2</td>\n      <td>2</td>\n      <td>PAIDOFF</td>\n      <td>1000</td>\n      <td>30</td>\n      <td>2016-09-08</td>\n      <td>2016-10-07</td>\n      <td>33</td>\n      <td>Bechalor</td>\n      <td>female</td>\n    </tr>\n    <tr>\n      <th>2</th>\n      <td>3</td>\n      <td>3</td>\n      <td>PAIDOFF</td>\n      <td>1000</td>\n      <td>15</td>\n      <td>2016-09-08</td>\n      <td>2016-09-22</td>\n      <td>27</td>\n      <td>college</td>\n      <td>male</td>\n    </tr>\n    <tr>\n      <th>3</th>\n      <td>4</td>\n      <td>4</td>\n      <td>PAIDOFF</td>\n      <td>1000</td>\n      <td>30</td>\n      <td>2016-09-09</td>\n      <td>2016-10-08</td>\n      <td>28</td>\n      <td>college</td>\n      <td>female</td>\n    </tr>\n    <tr>\n      <th>4</th>\n      <td>6</td>\n      <td>6</td>\n      <td>PAIDOFF</td>\n      <td>1000</td>\n      <td>30</td>\n      <td>2016-09-09</td>\n      <td>2016-10-08</td>\n      <td>29</td>\n      <td>college</td>\n      <td>male</td>\n    </tr>\n  </tbody>\n</table>\n</div>",
                        "text/plain": "   Unnamed: 0  Unnamed: 0.1 loan_status  Principal  terms effective_date  \\\n0           0             0     PAIDOFF       1000     30     2016-09-08   \n1           2             2     PAIDOFF       1000     30     2016-09-08   \n2           3             3     PAIDOFF       1000     15     2016-09-08   \n3           4             4     PAIDOFF       1000     30     2016-09-09   \n4           6             6     PAIDOFF       1000     30     2016-09-09   \n\n    due_date  age             education  Gender  \n0 2016-10-07   45  High School or Below    male  \n1 2016-10-07   33              Bechalor  female  \n2 2016-09-22   27               college    male  \n3 2016-10-08   28               college  female  \n4 2016-10-08   29               college    male  "
                    },
                    "execution_count": 5,
                    "metadata": {},
                    "output_type": "execute_result"
                }
            ],
            "source": "df['due_date'] = pd.to_datetime(df['due_date'])\ndf['effective_date'] = pd.to_datetime(df['effective_date'])\ndf.head()"
        },
        {
            "cell_type": "markdown",
            "metadata": {
                "button": false,
                "new_sheet": false,
                "run_control": {
                    "read_only": false
                }
            },
            "source": "# Data visualization and pre-processing\n"
        },
        {
            "cell_type": "markdown",
            "metadata": {
                "button": false,
                "new_sheet": false,
                "run_control": {
                    "read_only": false
                }
            },
            "source": "Let\u2019s see how many of each class is in our data set\n"
        },
        {
            "cell_type": "code",
            "execution_count": 6,
            "metadata": {
                "button": false,
                "new_sheet": false,
                "run_control": {
                    "read_only": false
                }
            },
            "outputs": [
                {
                    "data": {
                        "text/plain": "PAIDOFF       260\nCOLLECTION     86\nName: loan_status, dtype: int64"
                    },
                    "execution_count": 6,
                    "metadata": {},
                    "output_type": "execute_result"
                }
            ],
            "source": "df['loan_status'].value_counts()"
        },
        {
            "cell_type": "markdown",
            "metadata": {
                "button": false,
                "new_sheet": false,
                "run_control": {
                    "read_only": false
                }
            },
            "source": "260 people have paid off the loan on time while 86 have gone into collection\n"
        },
        {
            "cell_type": "markdown",
            "metadata": {},
            "source": "Let's plot some columns to underestand data better:\n"
        },
        {
            "cell_type": "code",
            "execution_count": null,
            "metadata": {},
            "outputs": [
                {
                    "name": "stdout",
                    "output_type": "stream",
                    "text": "Collecting package metadata (current_repodata.json): done\nSolving environment: failed with initial frozen solve. Retrying with flexible solve.\nSolving environment: failed with repodata from current_repodata.json, will retry with next repodata source.\nCollecting package metadata (repodata.json): done\nSolving environment: failed with initial frozen solve. Retrying with flexible solve.\nSolving environment: done\n\n## Package Plan ##\n\n  environment location: /opt/conda/envs/Python-3.7-main\n\n  added / updated specs:\n    - seaborn\n\n\nThe following packages will be downloaded:\n\n    package                    |            build\n    ---------------------------|-----------------\n    _libgcc_mutex-0.1          |             main           3 KB  anaconda\n    _py-xgboost-mutex-2.0      |            cpu_0           9 KB  anaconda\n    _pytorch_select-0.1        |            cpu_0           2 KB  anaconda\n    absl-py-0.10.0             |           py37_0         169 KB  anaconda\n    aiohttp-3.6.3              |   py37h7b6447c_0         626 KB  anaconda\n    argon2-cffi-20.1.0         |   py37h7b6447c_1          49 KB  anaconda\n    astor-0.8.1                |           py37_0          45 KB  anaconda\n    astropy-4.0.2              |   py37h7b6447c_0         7.6 MB  anaconda\n    astunparse-1.6.3           |             py_0          17 KB  anaconda\n    async-timeout-3.0.1        |           py37_0          12 KB  anaconda\n    async_generator-1.10       |   py37h28b3542_0          38 KB  anaconda\n    attrs-20.2.0               |             py_0          41 KB  anaconda\n    backcall-0.2.0             |             py_0          14 KB  anaconda\n    beautifulsoup4-4.9.3       |     pyhb0f4dca_0          87 KB  anaconda\n    biopython-1.78             |   py37h7b6447c_0         2.6 MB  anaconda\n    blas-1.0                   |              mkl           6 KB  anaconda\n    bleach-3.2.1               |             py_0         111 KB  anaconda\n    blinker-1.4                |           py37_0          21 KB  anaconda\n    blosc-1.19.0               |       hd408876_0          81 KB  anaconda\n    bokeh-2.2.3                |           py37_0         7.0 MB  anaconda\n    boto3-1.16.0               |             py_0          70 KB  anaconda\n    botocore-1.19.1            |             py_0         4.2 MB  anaconda\n    brotlipy-0.7.0             |py37h7b6447c_1000         348 KB  anaconda\n    bzip2-1.0.8                |       h7b6447c_0         105 KB  anaconda\n    c-ares-1.16.1              |       h7b6447c_0         112 KB  anaconda\n    ca-certificates-2020.10.14 |                0         128 KB  anaconda\n    cachetools-4.1.1           |             py_0          12 KB  anaconda\n    certifi-2020.6.20          |           py37_0         159 KB  anaconda\n    cffi-1.14.3                |   py37he30daa8_0         224 KB  anaconda\n    chardet-3.0.4              |        py37_1003         173 KB  anaconda\n    click-7.1.2                |             py_0          67 KB  anaconda\n    cloudpickle-1.6.0          |             py_0          29 KB  anaconda\n    cryptography-3.1.1         |   py37h1ba5d50_0         625 KB  anaconda\n    cx_oracle-8.0.1            |   py37h7b6447c_0         186 KB  anaconda\n    cycler-0.10.0              |           py37_0          13 KB  anaconda\n    cytoolz-0.11.0             |   py37h7b6447c_0         367 KB  anaconda\n    dask-core-2.30.0           |             py_0         639 KB  anaconda\n    dbus-1.13.18               |       hb2f20db_0         586 KB  anaconda\n    decorator-4.4.2            |             py_0          14 KB  anaconda\n    defusedxml-0.6.0           |             py_0          23 KB  anaconda\n    dill-0.3.2                 |             py_0          65 KB  anaconda\n    docutils-0.15.2            |           py37_0         736 KB  anaconda\n    entrypoints-0.3            |           py37_0          12 KB  anaconda\n    expat-2.2.10               |       he6710b0_2         192 KB  anaconda\n    fastcache-1.1.0            |   py37h7b6447c_0          31 KB  anaconda\n    fontconfig-2.13.0          |       h9420a91_0         291 KB  anaconda\n    freetds-1.00.97            |       h52ef933_0         2.4 MB  anaconda\n    freetype-2.10.4            |       h5ab3b9f_0         901 KB  anaconda\n    future-0.18.2              |           py37_1         720 KB  anaconda\n    gast-0.3.3                 |             py_0          14 KB  anaconda\n    glib-2.56.2                |       hd408876_0         5.0 MB  anaconda\n    gmp-6.1.2                  |       hb3b607b_0         744 KB  anaconda\n    google-auth-1.22.1         |             py_0          62 KB  anaconda\n    google-auth-oauthlib-0.4.1 |             py_2          21 KB  anaconda\n    google-pasta-0.2.0         |             py_0          44 KB  anaconda\n    grpcio-1.31.0              |   py37hf8bcb03_0         2.2 MB  anaconda\n    gst-plugins-base-1.14.0    |       hbbd80ab_1         6.3 MB  anaconda\n    gstreamer-1.14.0           |       hb453b48_1         3.8 MB  anaconda\n    h5py-2.10.0                |   py37h7918eee_0         1.2 MB  anaconda\n    hdf5-1.10.4                |       hb1b8bf9_0         5.3 MB  anaconda\n    html5lib-1.1               |             py_0          92 KB  anaconda\n    ibm-wsrt-py37main-keep-0.0.0|             2527           2 KB\n    ibm-wsrt-py37main-main-custom|             2527           2 KB\n    icu-58.2                   |       he6710b0_3        22.7 MB  anaconda\n    idna-2.10                  |             py_0          56 KB  anaconda\n    imageio-2.9.0              |             py_0         3.1 MB  anaconda\n    importlib-metadata-2.0.0   |             py_1          35 KB  anaconda\n    importlib_metadata-2.0.0   |                1          11 KB  anaconda\n    iniconfig-1.1.1            |             py_0           8 KB  anaconda\n    intel-openmp-2020.2        |              254         947 KB  anaconda\n    ipykernel-5.3.4            |   py37h5ca1d4c_0         176 KB  anaconda\n    ipython-7.18.1             |   py37h5ca1d4c_0         1.1 MB  anaconda\n    ipython_genutils-0.2.0     |           py37_0          39 KB  anaconda\n    ipywidgets-7.5.1           |             py_1         102 KB  anaconda\n    jedi-0.17.2                |           py37_0         950 KB  anaconda\n    jeepney-0.4.3              |             py_0          22 KB  anaconda\n    jinja2-2.11.2              |             py_0          97 KB  anaconda\n    jmespath-0.10.0            |             py_0          22 KB  anaconda\n    joblib-0.17.0              |             py_0         205 KB  anaconda\n    jpeg-9b                    |       habf39ab_1         247 KB  anaconda\n    json5-0.9.5                |             py_0          22 KB  anaconda\n    jsonschema-3.2.0           |             py_2          45 KB  anaconda\n    jupyter_client-6.1.7       |             py_0          76 KB  anaconda\n    jupyter_core-4.6.3         |           py37_0          75 KB  anaconda\n    jupyterlab-2.2.6           |             py_0         5.9 MB  anaconda\n    jupyterlab_pygments-0.1.2  |             py_0           8 KB  anaconda\n    jupyterlab_server-1.2.0    |             py_0          24 KB  anaconda\n    keras-applications-1.0.8   |             py_1          30 KB  anaconda\n    keras-preprocessing-1.1.0  |             py_1          36 KB  anaconda\n    keyring-18.0.0             |           py37_0          55 KB  anaconda\n    kiwisolver-1.2.0           |   py37hfd86e86_0          91 KB  anaconda\n    krb5-1.17.1                |       h173b8e3_0         1.5 MB  anaconda\n    lcms2-2.11                 |       h396b838_0         419 KB  anaconda\n    ld_impl_linux-64-2.33.1    |       h53a641e_7         645 KB  anaconda\n    libedit-3.1.20191231       |       h14c3975_1         121 KB  anaconda\n    libffi-3.3                 |       he6710b0_2          54 KB  anaconda\n    libgcc-ng-9.1.0            |       hdf63c60_0         8.1 MB  anaconda\n    libgfortran-ng-7.3.0       |       hdf63c60_0         1.3 MB  anaconda\n    libpng-1.6.37              |       hbc83047_0         364 KB  anaconda\n    libpq-12.2                 |       h20c2e04_0         2.8 MB  anaconda\n    libprotobuf-3.13.0.1       |       hd408876_0         2.3 MB  anaconda\n    libsodium-1.0.18           |       h7b6447c_0         387 KB  anaconda\n    libstdcxx-ng-9.1.0         |       hdf63c60_0         4.0 MB  anaconda\n    libtiff-4.1.0              |       h2733197_1         607 KB  anaconda\n    libuuid-1.0.3              |       h1bed415_2          16 KB  anaconda\n    libwebp-base-1.1.0         |       h7b6447c_3         869 KB  anaconda\n    libxcb-1.14                |       h7b6447c_0         610 KB  anaconda\n    libxgboost-0.90            |       he6710b0_1         3.8 MB  anaconda\n    libxml2-2.9.10             |       hb55368b_3         1.3 MB  anaconda\n    libxslt-1.1.34             |       hc22bd24_0         573 KB  anaconda\n    lxml-4.6.1                 |   py37hefd8a0e_0         1.3 MB  anaconda\n    lz4-c-1.9.2                |       heb0550a_3         203 KB  anaconda\n    lzo-2.10                   |       h7b6447c_2         317 KB  anaconda\n    markdown-3.3.2             |           py37_0         123 KB  anaconda\n    markupsafe-1.1.1           |   py37h14c3975_1          26 KB  anaconda\n    matplotlib-3.3.1           |                0          24 KB  anaconda\n    matplotlib-base-3.3.1      |   py37h817c723_0         6.7 MB  anaconda\n    mistune-0.8.4              |py37h14c3975_1001          53 KB  anaconda\n    mkl-2019.4                 |              243       204.1 MB  anaconda\n    mkl-service-2.3.0          |   py37he904b0f_0         208 KB  anaconda\n    mkl_fft-1.2.0              |   py37h23d657b_0         164 KB  anaconda\n    mkl_random-1.1.0           |   py37hd6b4f25_0         376 KB  anaconda\n    mock-4.0.2                 |             py_0          31 KB  anaconda\n    more-itertools-8.5.0       |             py_0          42 KB  anaconda\n    mpmath-1.1.0               |           py37_0         957 KB  anaconda\n    multidict-4.7.6            |   py37h7b6447c_1          69 KB  anaconda\n    nbclient-0.5.1             |             py_0          60 KB  anaconda\n    nbconvert-6.0.7            |           py37_0         530 KB  anaconda\n    nbformat-5.0.8             |             py_0         101 KB  anaconda\n    ncurses-6.2                |       he6710b0_1         1.1 MB  anaconda\n    nest-asyncio-1.4.1         |             py_0          10 KB  anaconda\n    networkx-2.5               |             py_0         1.2 MB  anaconda\n    ninja-1.10.1               |   py37hfd86e86_0         1.9 MB  anaconda\n    nltk-3.5                   |             py_0         1.1 MB  anaconda\n    notebook-6.1.4             |           py37_0         6.3 MB  anaconda\n    numexpr-2.7.1              |   py37h423224d_0         197 KB  anaconda\n    numpy-1.19.1               |   py37hbc911f0_0          20 KB  anaconda\n    numpy-base-1.19.1          |   py37hfa32c7d_0         5.2 MB  anaconda\n    oauthlib-3.1.0             |             py_0          88 KB  anaconda\n    olefile-0.46               |           py37_0          48 KB  anaconda\n    openssl-1.1.1h             |       h7b6447c_0         3.8 MB  anaconda\n    opt_einsum-3.1.0           |             py_0          54 KB  anaconda\n    packaging-20.4             |             py_0          35 KB  anaconda\n    pandas-1.1.3               |   py37he6710b0_0        10.5 MB  anaconda\n    pandoc-2.11                |       hb0f4dca_0        12.5 MB  anaconda\n    pandocfilters-1.4.2        |           py37_1          13 KB  anaconda\n    parso-0.7.0                |             py_0          71 KB  anaconda\n    patsy-0.5.1                |           py37_0         375 KB  anaconda\n    pcre-8.44                  |       he6710b0_0         269 KB  anaconda\n    pexpect-4.8.0              |           py37_1          79 KB  anaconda\n    pickleshare-0.7.5          |        py37_1001          13 KB  anaconda\n    pillow-8.0.0               |   py37h9a89aac_0         686 KB  anaconda\n    pip-20.2.4                 |           py37_0         2.0 MB  anaconda\n    plotly-4.11.0              |             py_0         5.9 MB  anaconda\n    pluggy-0.13.1              |           py37_0          32 KB  anaconda\n    prometheus_client-0.8.0    |             py_0          48 KB  anaconda\n    prompt-toolkit-3.0.8       |             py_0         244 KB  anaconda\n    protobuf-3.13.0.1          |   py37he6710b0_1         700 KB  anaconda\n    psycopg2-2.8.5             |   py37h1ba5d50_0         172 KB  anaconda\n    ptyprocess-0.6.0           |           py37_0          23 KB  anaconda\n    py-1.9.0                   |             py_0          78 KB  anaconda\n    py-xgboost-0.90            |   py37he6710b0_1          77 KB  anaconda\n    pyasn1-0.4.8               |             py_0          58 KB  anaconda\n    pyasn1-modules-0.2.8       |             py_0          67 KB  anaconda\n    pycparser-2.20             |             py_2          94 KB  anaconda\n    pygments-2.7.1             |             py_0         704 KB  anaconda\n    pyjwt-1.7.1                |           py37_0          32 KB  anaconda\n    pymssql-2.1.5              |   py37h7b6447c_0         228 KB  anaconda\n    pyodbc-4.0.30              |   py37he6710b0_0          72 KB  anaconda\n    pyopenssl-19.1.0           |             py_1          47 KB  anaconda\n    pyparsing-2.4.7            |             py_0          64 KB  anaconda\n    pyqt-5.9.2                 |   py37h22d08a2_1         5.6 MB  anaconda\n    pyrsistent-0.17.3          |   py37h7b6447c_0          89 KB  anaconda\n    pyshp-2.1.0                |             py_0          34 KB  anaconda\n    pysocks-1.7.1              |           py37_1          27 KB  anaconda\n    pytables-3.6.1             |   py37h71ec239_0         1.5 MB  anaconda\n    pytest-6.1.1               |           py37_0         418 KB  anaconda\n    python-3.7.9               |       h7579374_0        52.8 MB  anaconda\n    python-dateutil-2.8.1      |             py_0         224 KB  anaconda\n    pytorch-1.5.0              |cpu_py37hd91cbb3_0        33.3 MB  anaconda\n    pytz-2020.1                |             py_0         239 KB  anaconda\n    pywavelets-1.1.1           |   py37h7b6447c_2         4.4 MB  anaconda\n    pyyaml-5.3.1               |   py37h7b6447c_1         191 KB  anaconda\n    pyzmq-19.0.2               |   py37he6710b0_1         499 KB  anaconda\n    qt-5.9.7                   |       h5867ecd_1        85.9 MB  anaconda\n    readline-8.0               |       h7b6447c_0         428 KB  anaconda\n    regex-2020.10.15           |   py37h7b6447c_0         358 KB  anaconda\n    requests-2.24.0            |             py_0          54 KB  anaconda\n    requests-oauthlib-1.3.0    |             py_0          22 KB  anaconda\n    retrying-1.3.3             |           py37_2          15 KB  anaconda\n    rsa-4.6                    |             py_0          26 KB  anaconda\n    s3transfer-0.3.3           |           py37_1          90 KB  anaconda\n    scikit-image-0.17.2        |   py37hdf5156a_0        10.7 MB  anaconda\n    scikit-learn-0.23.2        |   py37h0573a6f_0         6.9 MB  anaconda\n    scipy-1.5.2                |   py37h0b6359f_0        18.5 MB  anaconda\n    seaborn-0.11.0             |             py_0         216 KB  anaconda\n    secretstorage-3.1.2        |           py37_1          23 KB  anaconda\n    send2trash-1.5.0           |           py37_0          16 KB  anaconda\n    setuptools-50.3.0          |   py37hb0f4dca_1         904 KB  anaconda\n    sip-4.19.24                |   py37he6710b0_0         297 KB  anaconda\n    six-1.15.0                 |             py_0          13 KB  anaconda\n    snappy-1.1.8               |       he6710b0_0          43 KB  anaconda\n    snowballstemmer-2.0.0      |             py_0          58 KB  anaconda\n    soupsieve-2.0.1            |             py_0          33 KB  anaconda\n    sqlalchemy-1.3.19          |   py37h7b6447c_0         1.8 MB  anaconda\n    sqlite-3.33.0              |       h62c20be_0         2.0 MB  anaconda\n    statsmodels-0.12.0         |   py37h7b6447c_0        10.9 MB  anaconda\n    sympy-1.6.2                |           py37_0        10.5 MB  anaconda\n    tabulate-0.8.7             |           py37_0          40 KB  anaconda\n    tensorboard-2.2.1          |     pyh532a8cf_0         2.5 MB  anaconda\n    tensorboard-plugin-wit-1.6.0|             py_0         663 KB  anaconda\n    tensorflow-base-2.3.0      |mkl_py37he9661a2_0       302.8 MB  anaconda\n    tensorflow-estimator-2.3.0 |     pyheb71bc4_0         294 KB  anaconda\n    termcolor-1.1.0            |           py37_1           7 KB  anaconda\n    terminado-0.9.1            |           py37_0          26 KB  anaconda\n    testpath-0.4.4             |             py_0          88 KB  anaconda\n    threadpoolctl-2.1.0        |     pyh5ca1d4c_0          16 KB  anaconda\n    tifffile-2020.10.1         |   py37hdd07704_2         260 KB  anaconda\n    tk-8.6.10                  |       hbc83047_0         3.2 MB  anaconda\n    toml-0.10.1                |             py_0          20 KB  anaconda\n    toolz-0.11.1               |             py_0          47 KB  anaconda\n    tornado-6.0.4              |   py37h7b6447c_1         649 KB  anaconda\n    tqdm-4.50.2                |             py_0          55 KB  anaconda\n    traitlets-5.0.5            |             py_0          81 KB  anaconda\n    typing_extensions-3.7.4.3  |             py_0          29 KB  anaconda\n    unixodbc-2.3.9             |       h7b6447c_0         299 KB  anaconda\n    urllib3-1.25.11            |             py_0          93 KB  anaconda\n    wcwidth-0.2.5              |             py_0          37 KB  anaconda\n    webencodings-0.5.1         |           py37_1          19 KB  anaconda\n    werkzeug-1.0.1             |             py_0         243 KB  anaconda\n    wheel-0.35.1               |             py_0          36 KB  anaconda\n    widgetsnbextension-3.5.1   |           py37_0         1.8 MB  anaconda\n    wrapt-1.12.1               |   py37h7b6447c_1          50 KB  anaconda\n    xlrd-1.2.0                 |           py37_0         186 KB  anaconda\n    xlsxwriter-1.3.7           |             py_0         104 KB  anaconda\n    xz-5.2.5                   |       h7b6447c_0         438 KB  anaconda\n    yaml-0.2.5                 |       h7b6447c_0          87 KB  anaconda\n    yarl-1.6.2                 |   py37h7b6447c_0         139 KB  anaconda\n    zeromq-4.3.3               |       he6710b0_3         678 KB  anaconda\n    zipp-3.3.1                 |             py_0          11 KB  anaconda\n    zlib-1.2.11                |       h7b6447c_3         120 KB  anaconda\n    zstd-1.4.4                 |       h0b5b093_3        1006 KB  anaconda\n    ------------------------------------------------------------\n                                           Total:       958.6 MB\n\nThe following NEW packages will be INSTALLED:\n\n  argon2-cffi        anaconda/linux-64::argon2-cffi-20.1.0-py37h7b6447c_1\n  astunparse         anaconda/noarch::astunparse-1.6.3-py_0\n  async_generator    anaconda/linux-64::async_generator-1.10-py37h28b3542_0\n  ibm-wsrt-py37main~ opt/ibm/build/channels/wscloud/noarch::ibm-wsrt-py37main-keep-0.0.0-2527\n  iniconfig          anaconda/noarch::iniconfig-1.1.1-py_0\n  jupyterlab_pygmen~ anaconda/noarch::jupyterlab_pygments-0.1.2-py_0\n  nbclient           anaconda/noarch::nbclient-0.5.1-py_0\n  nest-asyncio       anaconda/noarch::nest-asyncio-1.4.1-py_0\n  tensorboard-plugi~ anaconda/noarch::tensorboard-plugin-wit-1.6.0-py_0\n  tifffile           anaconda/linux-64::tifffile-2020.10.1-py37hdd07704_2\n  toml               anaconda/noarch::toml-0.10.1-py_0\n\nThe following packages will be UPDATED:\n\n  absl-py                   pkgs/main::absl-py-0.9.0-py37_0 --> anaconda::absl-py-0.10.0-py37_0\n  aiohttp            pkgs/main::aiohttp-3.6.2-py37h7b6447c~ --> anaconda::aiohttp-3.6.3-py37h7b6447c_0\n  astor                       pkgs/main::astor-0.8.0-py37_0 --> anaconda::astor-0.8.1-py37_0\n  astropy            pkgs/main::astropy-4.0.1.post1-py37h7~ --> anaconda::astropy-4.0.2-py37h7b6447c_0\n  attrs                        pkgs/main::attrs-19.3.0-py_0 --> anaconda::attrs-20.2.0-py_0\n  beautifulsoup4     pkgs/main/linux-64::beautifulsoup4-4.~ --> anaconda/noarch::beautifulsoup4-4.9.3-pyhb0f4dca_0\n  biopython          pkgs/main::biopython-1.77-py37h27cfd2~ --> anaconda::biopython-1.78-py37h7b6447c_0\n  bleach                       pkgs/main::bleach-3.1.5-py_0 --> anaconda::bleach-3.2.1-py_0\n  bokeh                       pkgs/main::bokeh-2.1.1-py37_0 --> anaconda::bokeh-2.2.3-py37_0\n  boto3                       pkgs/main::boto3-1.13.11-py_0 --> anaconda::boto3-1.16.0-py_0\n  botocore                 pkgs/main::botocore-1.16.11-py_0 --> anaconda::botocore-1.19.1-py_0\n  c-ares             pkgs/main::c-ares-1.15.0-h7b6447c_1001 --> anaconda::c-ares-1.16.1-h7b6447c_0\n  cffi                pkgs/main::cffi-1.14.0-py37he30daa8_1 --> anaconda::cffi-1.14.3-py37he30daa8_0\n  cloudpickle             pkgs/main::cloudpickle-1.5.0-py_0 --> anaconda::cloudpickle-1.6.0-py_0\n  cx_oracle          pkgs/main::cx_oracle-7.2.3-py37h7b644~ --> anaconda::cx_oracle-8.0.1-py37h7b6447c_0\n  cytoolz            pkgs/main::cytoolz-0.10.1-py37h7b6447~ --> anaconda::cytoolz-0.11.0-py37h7b6447c_0\n  dask-core                pkgs/main::dask-core-2.20.0-py_0 --> anaconda::dask-core-2.30.0-py_0\n  dbus                   pkgs/main::dbus-1.13.16-hb2f20db_0 --> anaconda::dbus-1.13.18-hb2f20db_0\n  dill                pkgs/main/linux-64::dill-0.3.0-py37_0 --> anaconda/noarch::dill-0.3.2-py_0\n  expat                   pkgs/main::expat-2.2.9-he6710b0_2 --> anaconda::expat-2.2.10-he6710b0_2\n  freetype            pkgs/main::freetype-2.10.2-h5ab3b9f_0 --> anaconda::freetype-2.10.4-h5ab3b9f_0\n  gast                pkgs/main/linux-64::gast-0.2.2-py37_0 --> anaconda/noarch::gast-0.3.3-py_0\n  google-auth            pkgs/main::google-auth-1.22.0-py_0 --> anaconda::google-auth-1.22.1-py_0\n  grpcio             pkgs/main::grpcio-1.27.2-py37hf8bcb03~ --> anaconda::grpcio-1.31.0-py37hf8bcb03_0\n  gstreamer          pkgs/main::gstreamer-1.14.0-hb31296c_0 --> anaconda::gstreamer-1.14.0-hb453b48_1\n  idna                             pkgs/main::idna-2.9-py_1 --> anaconda::idna-2.10-py_0\n  importlib-metadata pkgs/main/linux-64::importlib-metadat~ --> anaconda/noarch::importlib-metadata-2.0.0-py_1\n  importlib_metadata  pkgs/main::importlib_metadata-1.6.1-0 --> anaconda::importlib_metadata-2.0.0-1\n  intel-openmp           pkgs/main::intel-openmp-2020.1-217 --> anaconda::intel-openmp-2020.2-254\n  ipykernel          pkgs/main::ipykernel-5.3.0-py37h5ca1d~ --> anaconda::ipykernel-5.3.4-py37h5ca1d4c_0\n  ipython                  pkgs/main::ipython-7.15.0-py37_0 --> anaconda::ipython-7.18.1-py37h5ca1d4c_0\n  jedi                        pkgs/main::jedi-0.17.1-py37_0 --> anaconda::jedi-0.17.2-py37_0\n  jeepney            pkgs/main/linux-64::jeepney-0.4-py37_0 --> anaconda/noarch::jeepney-0.4.3-py_0\n  jmespath                   pkgs/main::jmespath-0.9.4-py_0 --> anaconda::jmespath-0.10.0-py_0\n  joblib                      pkgs/main::joblib-0.16.0-py_0 --> anaconda::joblib-0.17.0-py_0\n  jupyter_client       pkgs/main::jupyter_client-6.1.3-py_0 --> anaconda::jupyter_client-6.1.7-py_0\n  jupyterlab_server  pkgs/main::jupyterlab_server-1.1.0-py~ --> anaconda::jupyterlab_server-1.2.0-py_0\n  libprotobuf        pkgs/main::libprotobuf-3.12.3-hd40887~ --> anaconda::libprotobuf-3.13.0.1-hd408876_0\n  markdown                 pkgs/main::markdown-3.1.1-py37_0 --> anaconda::markdown-3.3.2-py37_0\n  matplotlib                  pkgs/main::matplotlib-3.2.2-0 --> anaconda::matplotlib-3.3.1-0\n  matplotlib-base    pkgs/main::matplotlib-base-3.2.2-py37~ --> anaconda::matplotlib-base-3.3.1-py37h817c723_0\n  mkl_fft            pkgs/main::mkl_fft-1.1.0-py37h23d657b~ --> anaconda::mkl_fft-1.2.0-py37h23d657b_0\n  more-itertools       pkgs/main::more-itertools-8.4.0-py_0 --> anaconda::more-itertools-8.5.0-py_0\n  nbconvert               pkgs/main::nbconvert-5.6.1-py37_1 --> anaconda::nbconvert-6.0.7-py37_0\n  nbformat                   pkgs/main::nbformat-5.0.7-py_0 --> anaconda::nbformat-5.0.8-py_0\n  networkx                     pkgs/main::networkx-2.4-py_1 --> anaconda::networkx-2.5-py_0\n  ninja               pkgs/main::ninja-1.9.0-py37hfd86e86_0 --> anaconda::ninja-1.10.1-py37hfd86e86_0\n  notebook                 pkgs/main::notebook-6.0.3-py37_0 --> anaconda::notebook-6.1.4-py37_0\n  numpy              pkgs/main::numpy-1.18.5-py37ha1c710e_0 --> anaconda::numpy-1.19.1-py37hbc911f0_0\n  numpy-base         pkgs/main::numpy-base-1.18.5-py37hde5~ --> anaconda::numpy-base-1.19.1-py37hfa32c7d_0\n  pandas             pkgs/main::pandas-1.0.5-py37h0573a6f_0 --> anaconda::pandas-1.1.3-py37he6710b0_0\n  pandoc                        pkgs/main::pandoc-2.9.2.1-0 --> anaconda::pandoc-2.11-hb0f4dca_0\n  pillow             pkgs/main::pillow-7.2.0-py37hb39fc2d_0 --> anaconda::pillow-8.0.0-py37h9a89aac_0\n  pip                          pkgs/main::pip-20.1.1-py37_1 --> anaconda::pip-20.2.4-py37_0\n  plotly                       pkgs/main::plotly-4.8.2-py_0 --> anaconda::plotly-4.11.0-py_0\n  prompt-toolkit     pkgs/main::prompt-toolkit-3.0.5-pyha8~ --> anaconda::prompt-toolkit-3.0.8-py_0\n  protobuf           pkgs/main::protobuf-3.12.3-py37he6710~ --> anaconda::protobuf-3.13.0.1-py37he6710b0_1\n  py                               pkgs/main::py-1.8.2-py_0 --> anaconda::py-1.9.0-py_0\n  pygments                   pkgs/main::pygments-2.6.1-py_0 --> anaconda::pygments-2.7.1-py_0\n  pyrsistent         pkgs/main::pyrsistent-0.16.0-py37h7b6~ --> anaconda::pyrsistent-0.17.3-py37h7b6447c_0\n  pytest             pkgs/main::pytest-5.4.3-py37h06a4308_0 --> anaconda::pytest-6.1.1-py37_0\n  pytorch            pkgs/main::pytorch-1.3.1-cpu_py37h62f~ --> anaconda::pytorch-1.5.0-cpu_py37hd91cbb3_0\n  pyzmq              pkgs/main::pyzmq-19.0.1-py37he6710b0_1 --> anaconda::pyzmq-19.0.2-py37he6710b0_1\n  regex              pkgs/main::regex-2020.6.8-py37h7b6447~ --> anaconda::regex-2020.10.15-py37h7b6447c_0\n  scikit-image       pkgs/main::scikit-image-0.16.2-py37h0~ --> anaconda::scikit-image-0.17.2-py37hdf5156a_0\n  scikit-learn       pkgs/main::scikit-learn-0.23.1-py37h4~ --> anaconda::scikit-learn-0.23.2-py37h0573a6f_0\n  scipy               pkgs/main::scipy-1.5.0-py37h0b6359f_0 --> anaconda::scipy-1.5.2-py37h0b6359f_0\n  seaborn                    pkgs/main::seaborn-0.10.1-py_0 --> anaconda::seaborn-0.11.0-py_0\n  secretstorage       pkgs/main::secretstorage-3.1.0-py37_0 --> anaconda::secretstorage-3.1.2-py37_1\n  setuptools            pkgs/main::setuptools-47.3.1-py37_0 --> anaconda::setuptools-50.3.0-py37hb0f4dca_1\n  sip                  pkgs/main::sip-4.19.8-py37hf484d3e_0 --> anaconda::sip-4.19.24-py37he6710b0_0\n  sqlalchemy         pkgs/main::sqlalchemy-1.3.17-py37h7b6~ --> anaconda::sqlalchemy-1.3.19-py37h7b6447c_0\n  statsmodels        pkgs/main::statsmodels-0.11.1-py37h7b~ --> anaconda::statsmodels-0.12.0-py37h7b6447c_0\n  tabulate                 pkgs/main::tabulate-0.8.3-py37_0 --> anaconda::tabulate-0.8.7-py37_0\n  tensorboard            pkgs/main::tensorboard-2.1.0-py3_0 --> anaconda::tensorboard-2.2.1-pyh532a8cf_0\n  tensorflow-base    pkgs/main::tensorflow-base-2.1.0-mkl_~ --> anaconda::tensorflow-base-2.3.0-mkl_py37he9661a2_0\n  tensorflow-estima~ pkgs/main::tensorflow-estimator-2.1.0~ --> anaconda::tensorflow-estimator-2.3.0-pyheb71bc4_0\n  terminado               pkgs/main::terminado-0.8.3-py37_0 --> anaconda::terminado-0.9.1-py37_0\n  toolz                        pkgs/main::toolz-0.10.0-py_0 --> anaconda::toolz-0.11.1-py_0\n  tqdm                          pkgs/main::tqdm-4.47.0-py_0 --> anaconda::tqdm-4.50.2-py_0\n  traitlets          pkgs/main/linux-64::traitlets-4.3.3-p~ --> anaconda/noarch::traitlets-5.0.5-py_0\n  typing_extensions  pkgs/main::typing_extensions-3.7.4.2-~ --> anaconda::typing_extensions-3.7.4.3-py_0\n  unixodbc             pkgs/main::unixodbc-2.3.7-h14c3975_0 --> anaconda::unixodbc-2.3.9-h7b6447c_0\n  urllib3                    pkgs/main::urllib3-1.25.9-py_0 --> anaconda::urllib3-1.25.11-py_0\n  wcwidth                     pkgs/main::wcwidth-0.2.4-py_0 --> anaconda::wcwidth-0.2.5-py_0\n  wheel              pkgs/main/linux-64::wheel-0.34.2-py37~ --> anaconda/noarch::wheel-0.35.1-py_0\n  xlsxwriter               pkgs/main::xlsxwriter-1.2.9-py_0 --> anaconda::xlsxwriter-1.3.7-py_0\n  yarl                 pkgs/main::yarl-1.5.1-py37h7b6447c_0 --> anaconda::yarl-1.6.2-py37h7b6447c_0\n  zeromq                 pkgs/main::zeromq-4.3.2-he6710b0_3 --> anaconda::zeromq-4.3.3-he6710b0_3\n  zipp                           pkgs/main::zipp-3.1.0-py_0 --> anaconda::zipp-3.3.1-py_0\n\nThe following packages will be SUPERSEDED by a higher-priority channel:\n\n  _libgcc_mutex                                   pkgs/main --> anaconda\n  _py-xgboost-mutex                               pkgs/main --> anaconda\n  _pytorch_select                                 pkgs/main --> anaconda\n  async-timeout      pkgs/main::async-timeout-3.0.1-py37h0~ --> anaconda::async-timeout-3.0.1-py37_0\n  backcall           pkgs/main::backcall-0.2.0-pyhd3eb1b0_0 --> anaconda::backcall-0.2.0-py_0\n  blas                                            pkgs/main --> anaconda\n  blinker             pkgs/main::blinker-1.4-py37h06a4308_0 --> anaconda::blinker-1.4-py37_0\n  blosc                                           pkgs/main --> anaconda\n  brotlipy           pkgs/main::brotlipy-0.7.0-py37h27cfd2~ --> anaconda::brotlipy-0.7.0-py37h7b6447c_1000\n  bzip2                                           pkgs/main --> anaconda\n  ca-certificates    pkgs/main::ca-certificates-2021.5.25-~ --> anaconda::ca-certificates-2020.10.14-0\n  cachetools                                      pkgs/main --> anaconda\n  certifi            pkgs/main::certifi-2021.5.30-py37h06a~ --> anaconda::certifi-2020.6.20-py37_0\n  chardet            pkgs/main::chardet-3.0.4-py37h06a4308~ --> anaconda::chardet-3.0.4-py37_1003\n  click                 pkgs/main::click-7.1.2-pyhd3eb1b0_0 --> anaconda::click-7.1.2-py_0\n  cryptography       pkgs/main::cryptography-3.4.7-py37hd2~ --> anaconda::cryptography-3.1.1-py37h1ba5d50_0\n  cycler                                          pkgs/main --> anaconda\n  decorator          pkgs/main::decorator-4.4.2-pyhd3eb1b0~ --> anaconda::decorator-4.4.2-py_0\n  defusedxml         pkgs/main::defusedxml-0.6.0-pyhd3eb1b~ --> anaconda::defusedxml-0.6.0-py_0\n  docutils           pkgs/main::docutils-0.15.2-py37h06a43~ --> anaconda::docutils-0.15.2-py37_0\n  entrypoints                                     pkgs/main --> anaconda\n  fastcache                                       pkgs/main --> anaconda\n  fontconfig                                      pkgs/main --> anaconda\n  freetds                                         pkgs/main --> anaconda\n  future                                          pkgs/main --> anaconda\n  glib                    pkgs/main::glib-2.65.0-h3eb4bd4_0 --> anaconda::glib-2.56.2-hd408876_0\n  gmp                       pkgs/main::gmp-6.1.2-h6c8ec71_1 --> anaconda::gmp-6.1.2-hb3b607b_0\n  google-auth-oauth~                              pkgs/main --> anaconda\n  google-pasta                                    pkgs/main --> anaconda\n  gst-plugins-base                                pkgs/main --> anaconda\n  h5py                                            pkgs/main --> anaconda\n  hdf5                                            pkgs/main --> anaconda\n  html5lib                                        pkgs/main --> anaconda\n  icu                                             pkgs/main --> anaconda\n  imageio             pkgs/main::imageio-2.9.0-pyhd3eb1b0_0 --> anaconda::imageio-2.9.0-py_0\n  ipython_genutils   pkgs/main/noarch::ipython_genutils-0.~ --> anaconda/linux-64::ipython_genutils-0.2.0-py37_0\n  ipywidgets                                      pkgs/main --> anaconda\n  jinja2              pkgs/main::jinja2-2.11.3-pyhd3eb1b0_0 --> anaconda::jinja2-2.11.2-py_0\n  jpeg                        pkgs/main::jpeg-9b-h024ee3a_2 --> anaconda::jpeg-9b-habf39ab_1\n  json5                                           pkgs/main --> anaconda\n  jsonschema                                      pkgs/main --> anaconda\n  jupyter_core                                    pkgs/main --> anaconda\n  jupyterlab         pkgs/main::jupyterlab-2.2.6-pyhd3eb1b~ --> anaconda::jupyterlab-2.2.6-py_0\n  keras-applications                              pkgs/main --> anaconda\n  keras-preprocessi~                              pkgs/main --> anaconda\n  keyring                                         pkgs/main --> anaconda\n  kiwisolver                                      pkgs/main --> anaconda\n  krb5                                            pkgs/main --> anaconda\n  lcms2                                           pkgs/main --> anaconda\n  ld_impl_linux-64                                pkgs/main --> anaconda\n  libedit                                         pkgs/main --> anaconda\n  libffi                                          pkgs/main --> anaconda\n  libgcc-ng                                       pkgs/main --> anaconda\n  libgfortran-ng                                  pkgs/main --> anaconda\n  libpng                                          pkgs/main --> anaconda\n  libpq                                           pkgs/main --> anaconda\n  libsodium                                       pkgs/main --> anaconda\n  libstdcxx-ng                                    pkgs/main --> anaconda\n  libtiff               pkgs/main::libtiff-4.2.0-h85742a9_0 --> anaconda::libtiff-4.1.0-h2733197_1\n  libuuid                                         pkgs/main --> anaconda\n  libwebp-base       pkgs/main::libwebp-base-1.2.0-h27cfd2~ --> anaconda::libwebp-base-1.1.0-h7b6447c_3\n  libxcb                                          pkgs/main --> anaconda\n  libxgboost                                      pkgs/main --> anaconda\n  libxml2                                         pkgs/main --> anaconda\n  libxslt                                         pkgs/main --> anaconda\n  lxml                 pkgs/main::lxml-4.6.3-py37h9120a33_0 --> anaconda::lxml-4.6.1-py37hefd8a0e_0\n  lz4-c                                           pkgs/main --> anaconda\n  lzo                                             pkgs/main --> anaconda\n  markupsafe                                      pkgs/main --> anaconda\n  mistune                                         pkgs/main --> anaconda\n  mkl                             pkgs/main::mkl-2020.1-217 --> anaconda::mkl-2019.4-243\n  mkl-service        pkgs/main::mkl-service-2.3.0-py37he8a~ --> anaconda::mkl-service-2.3.0-py37he904b0f_0\n  mkl_random         pkgs/main::mkl_random-1.1.1-py37h0573~ --> anaconda::mkl_random-1.1.0-py37hd6b4f25_0\n  mock                                            pkgs/main --> anaconda\n  mpmath                                          pkgs/main --> anaconda\n  multidict                                       pkgs/main --> anaconda\n  ncurses                                         pkgs/main --> anaconda\n  nltk                                            pkgs/main --> anaconda\n  numexpr            pkgs/main::numexpr-2.7.1-py37h63df603~ --> anaconda::numexpr-2.7.1-py37h423224d_0\n  oauthlib                                        pkgs/main --> anaconda\n  olefile                                         pkgs/main --> anaconda\n  openssl              pkgs/main::openssl-1.1.1k-h27cfd23_0 --> anaconda::openssl-1.1.1h-h7b6447c_0\n  opt_einsum                                      pkgs/main --> anaconda\n  packaging                                       pkgs/main --> anaconda\n  pandocfilters                                   pkgs/main --> anaconda\n  parso                                           pkgs/main --> anaconda\n  patsy                                           pkgs/main --> anaconda\n  pcre                                            pkgs/main --> anaconda\n  pexpect            pkgs/main/noarch::pexpect-4.8.0-pyhd3~ --> anaconda/linux-64::pexpect-4.8.0-py37_1\n  pickleshare        pkgs/main/noarch::pickleshare-0.7.5-p~ --> anaconda/linux-64::pickleshare-0.7.5-py37_1001\n  pluggy             pkgs/main::pluggy-0.13.1-py37h06a4308~ --> anaconda::pluggy-0.13.1-py37_0\n  prometheus_client                               pkgs/main --> anaconda\n  psycopg2           pkgs/main::psycopg2-2.8.5-py37h3c74f8~ --> anaconda::psycopg2-2.8.5-py37h1ba5d50_0\n  ptyprocess         pkgs/main/noarch::ptyprocess-0.6.0-py~ --> anaconda/linux-64::ptyprocess-0.6.0-py37_0\n  py-xgboost                                      pkgs/main --> anaconda\n  pyasn1                                          pkgs/main --> anaconda\n  pyasn1-modules                                  pkgs/main --> anaconda\n  pycparser                                       pkgs/main --> anaconda\n  pyjwt                                           pkgs/main --> anaconda\n  pymssql                                         pkgs/main --> anaconda\n  pyodbc                                          pkgs/main --> anaconda\n  pyopenssl          pkgs/main::pyopenssl-19.1.0-pyhd3eb1b~ --> anaconda::pyopenssl-19.1.0-py_1\n  pyparsing          pkgs/main::pyparsing-2.4.7-pyhd3eb1b0~ --> anaconda::pyparsing-2.4.7-py_0\n  pyqt                 pkgs/main::pyqt-5.9.2-py37h05f1152_2 --> anaconda::pyqt-5.9.2-py37h22d08a2_1\n  pyshp                                           pkgs/main --> anaconda\n  pysocks                                         pkgs/main --> anaconda\n  pytables                                        pkgs/main --> anaconda\n  python                pkgs/main::python-3.7.10-hdb3f193_0 --> anaconda::python-3.7.9-h7579374_0\n  python-dateutil    pkgs/main::python-dateutil-2.8.1-pyhd~ --> anaconda::python-dateutil-2.8.1-py_0\n  pytz                                            pkgs/main --> anaconda\n  pywavelets                                      pkgs/main --> anaconda\n  pyyaml             pkgs/main::pyyaml-5.4.1-py37h27cfd23_1 --> anaconda::pyyaml-5.3.1-py37h7b6447c_1\n  qt                                              pkgs/main --> anaconda\n  readline                                        pkgs/main --> anaconda\n  requests                                        pkgs/main --> anaconda\n  requests-oauthlib                               pkgs/main --> anaconda\n  retrying                                        pkgs/main --> anaconda\n  rsa                                             pkgs/main --> anaconda\n  s3transfer         pkgs/main/noarch::s3transfer-0.3.3-py~ --> anaconda/linux-64::s3transfer-0.3.3-py37_1\n  send2trash         pkgs/main/noarch::send2trash-1.5.0-py~ --> anaconda/linux-64::send2trash-1.5.0-py37_0\n  six                pkgs/main/linux-64::six-1.15.0-py37h0~ --> anaconda/noarch::six-1.15.0-py_0\n  snappy                                          pkgs/main --> anaconda\n  snowballstemmer    pkgs/main::snowballstemmer-2.0.0-pyhd~ --> anaconda::snowballstemmer-2.0.0-py_0\n  soupsieve                                       pkgs/main --> anaconda\n  sqlite                                          pkgs/main --> anaconda\n  sympy                                           pkgs/main --> anaconda\n  termcolor          pkgs/main::termcolor-1.1.0-py37h06a43~ --> anaconda::termcolor-1.1.0-py37_1\n  testpath           pkgs/main::testpath-0.4.4-pyhd3eb1b0_0 --> anaconda::testpath-0.4.4-py_0\n  threadpoolctl                                   pkgs/main --> anaconda\n  tk                                              pkgs/main --> anaconda\n  tornado                                         pkgs/main --> anaconda\n  webencodings                                    pkgs/main --> anaconda\n  werkzeug           pkgs/main::werkzeug-1.0.1-pyhd3eb1b0_0 --> anaconda::werkzeug-1.0.1-py_0\n  widgetsnbextension                              pkgs/main --> anaconda\n  wrapt                                           pkgs/main --> anaconda\n  xlrd                                            pkgs/main --> anaconda\n  xz                                              pkgs/main --> anaconda\n  yaml                                            pkgs/main --> anaconda\n  zlib                                            pkgs/main --> anaconda\n  zstd                     pkgs/main::zstd-1.4.5-h9ceee32_0 --> anaconda::zstd-1.4.4-h0b5b093_3\n\nThe following packages will be DOWNGRADED:\n\n  ibm-wsrt-py37main~                             0.0.0-2527 --> custom-2527\n\n\n\nDownloading and Extracting Packages\nlibgfortran-ng-7.3.0 | 1.3 MB    | ##################################### | 100% \nastropy-4.0.2        | 7.6 MB    | ##################################### | 100% \ntabulate-0.8.7       | 40 KB     | ##################################### | 100% \nscikit-learn-0.23.2  | 6.9 MB    | ##################################### | 100% \nmarkdown-3.3.2       | 123 KB    | ##################################### | 100% \nxlsxwriter-1.3.7     | 104 KB    | ##################################### | 100% \npywavelets-1.1.1     | 4.4 MB    | ##################################### | 100% \nwidgetsnbextension-3 | 1.8 MB    | ##################################### | 100% \nfuture-0.18.2        | 720 KB    | ##################################### | 100% \nmkl-2019.4           | 204.1 MB  | ##################################### | 100% \npexpect-4.8.0        | 79 KB     | ##################################### | 100% \njupyter_client-6.1.7 | 76 KB     | ##################################### | 100% \njupyterlab_server-1. | 24 KB     | ##################################### | 100% \nld_impl_linux-64-2.3 | 645 KB    | ##################################### | 100% \ncloudpickle-1.6.0    | 29 KB     | ##################################### | 100% \npyodbc-4.0.30        | 72 KB     | ##################################### | 100% \nlibprotobuf-3.13.0.1 | 2.3 MB    | ##################################### | 100% \npysocks-1.7.1        | 27 KB     | ##################################### | 100% \ntermcolor-1.1.0      | 7 KB      | ##################################### | 100% \nexpat-2.2.10         | 192 KB    | ##################################### | 100% \nclick-7.1.2          | 67 KB     | ##################################### | 100% \nnbclient-0.5.1       | 60 KB     | ##################################### | 100% \ncycler-0.10.0        | 13 KB     | ##################################### | 100% \ndecorator-4.4.2      | 14 KB     | ##################################### | 100% \nretrying-1.3.3       | 15 KB     | ##################################### | 100% \nnbconvert-6.0.7      | 530 KB    | ##################################### | 100% \nsix-1.15.0           | 13 KB     | ##################################### | 100% \nqt-5.9.7             | 85.9 MB   | ##################################### | 100% \nbeautifulsoup4-4.9.3 | 87 KB     | ##################################### | 100% \npyasn1-0.4.8         | 58 KB     | ##################################### | 100% \nibm-wsrt-py37main-ma | 2 KB      | ##################################### | 100% \nlcms2-2.11           | 419 KB    | ##################################### | 100% \nnotebook-6.1.4       | 6.3 MB    | ##################################### | 100% \npymssql-2.1.5        | 228 KB    | ##################################### | 100% \ntensorboard-plugin-w | 663 KB    | ##################################### | 100% \npy-xgboost-0.90      | 77 KB     | ##################################### | 100% \npy-1.9.0             | 78 KB     | ##################################### | 100% \ncytoolz-0.11.0       | 367 KB    | ##################################### | 100% \nolefile-0.46         | 48 KB     | ##################################### | 100% \ndbus-1.13.18         | 586 KB    | ##################################### | 100% \npcre-8.44            | 269 KB    | ##################################### | 100% \nhtml5lib-1.1         | 92 KB     | ##################################### | 100% \npyqt-5.9.2           | 5.6 MB    | ##################################### | 100% \nzeromq-4.3.3         | 678 KB    | ##################################### | 100% \nbzip2-1.0.8          | 105 KB    | ##################################### | 100% \ngmp-6.1.2            | 744 KB    | ##################################### | 100% \ncertifi-2020.6.20    | 159 KB    | ##################################### | 100% \nsqlite-3.33.0        | 2.0 MB    | ##################################### | 100% \nnumpy-1.19.1         | 20 KB     | ##################################### | 100% \npytables-3.6.1       | 1.5 MB    | ##################################### | 100% \ncryptography-3.1.1   | 625 KB    | ##################################### | 100% \nsoupsieve-2.0.1      | 33 KB     | ##################################### | 100% \ncx_oracle-8.0.1      | 186 KB    | ##################################### | 100% \ncachetools-4.1.1     | 12 KB     | ##################################### | 100% \ndocutils-0.15.2      | 736 KB    | ##################################### | 100% \njson5-0.9.5          | 22 KB     | ##################################### | 100% \ngast-0.3.3           | 14 KB     | ##################################### | 100% \ntoolz-0.11.1         | 47 KB     | ##################################### | 100% \njedi-0.17.2          | 950 KB    | ##################################### | 100% \ntornado-6.0.4        | 649 KB    | ##################################### | 100% \nregex-2020.10.15     | 358 KB    | ##################################### | 100% \nopenssl-1.1.1h       | 3.8 MB    | ##################################### | 100% \npython-3.7.9         | 52.8 MB   | ##################################### | 100% \n_py-xgboost-mutex-2. | 9 KB      | ##################################### | 100% \nrsa-4.6              | 26 KB     | ##################################### | 100% \nnest-asyncio-1.4.1   | 10 KB     | ##################################### | 100% \nscipy-1.5.2          | 18.5 MB   | ##################################### | 100% \npillow-8.0.0         | 686 KB    | ##################################### | 100% \ntoml-0.10.1          | 20 KB     | ##################################### | 100% \nimageio-2.9.0        | 3.1 MB    | ##################################### | 100% \nasync_generator-1.10 | 38 KB     | ##################################### | 100% \nnetworkx-2.5         | 1.2 MB    | ##################################### | 100% \njupyterlab_pygments- | 8 KB      | ##################################### | 100% \njupyter_core-4.6.3   | 75 KB     | ##################################### | 100% \nprotobuf-3.13.0.1    | 700 KB    | ##################################### | 100% \nnumexpr-2.7.1        | 197 KB    | ##################################### | 100% \nyaml-0.2.5           | 87 KB     | ##################################### | 100% \nlz4-c-1.9.2          | 203 KB    | ##################################### | 100% \nlibstdcxx-ng-9.1.0   | 4.0 MB    | ##################################### | 100% \npyjwt-1.7.1          | 32 KB     | ##################################### | 100% \nlibwebp-base-1.1.0   | 869 KB    | ##################################### | 100% \nsend2trash-1.5.0     | 16 KB     | ##################################### | 100% \njeepney-0.4.3        | 22 KB     | ##################################### | 100% \npyparsing-2.4.7      | 64 KB     | ##################################### | 100% \npyrsistent-0.17.3    | 89 KB     | ##################################### | 100% \npandas-1.1.3         | 10.5 MB   | ##################################### | 100% \nastor-0.8.1          | 45 KB     | ##################################### | 100% \nwerkzeug-1.0.1       | 243 KB    | ##################################### | 100% \nsympy-1.6.2          | 10.5 MB   | ##################################### | 100% \nargon2-cffi-20.1.0   | 49 KB     | ##################################### | 100% \nmpmath-1.1.0         | 957 KB    | ##################################### | 100% \nptyprocess-0.6.0     | 23 KB     | ##################################### | 100% \ntqdm-4.50.2          | 55 KB     | ##################################### | 100% \nlibxslt-1.1.34       | 573 KB    | ##################################### | 100% \nxlrd-1.2.0           | 186 KB    | ##################################### | 100% \nnltk-3.5             | 1.1 MB    | ##################################### | 100% \ns3transfer-0.3.3     | 90 KB     | ##################################### | 100% \nmkl_random-1.1.0     | 376 KB    | ##################################### | 100% \njpeg-9b              | 247 KB    | ##################################### | 100% \nkeras-preprocessing- | 36 KB     | ##################################### | 100% \nicu-58.2             | 22.7 MB   | ##################################### | 100% \nreadline-8.0         | 428 KB    | ##################################### | 100% \nwheel-0.35.1         | 36 KB     | ##################################### | 100% \ntk-8.6.10            | 3.2 MB    | ##################################### | 100% \npyshp-2.1.0          | 34 KB     | ##################################### | 100% \nastunparse-1.6.3     | 17 KB     | ##################################### | 100% \npython-dateutil-2.8. | 224 KB    | ##################################### | 100% \nboto3-1.16.0         | 70 KB     | ##################################### | 100% \nbiopython-1.78       | 2.6 MB    | ##################################### | 100% \nprometheus_client-0. | 48 KB     | ##################################### | 100% \nintel-openmp-2020.2  | 947 KB    | ##################################### | 100% \nmatplotlib-base-3.3. | 6.7 MB    | ##################################### | 100% \npickleshare-0.7.5    | 13 KB     | ##################################### | 100% \nlzo-2.10             | 317 KB    | ##################################### | 100% \nrequests-oauthlib-1. | 22 KB     | ##################################### | 100% \nlibuuid-1.0.3        | 16 KB     | ##################################### | 100% \nmarkupsafe-1.1.1     | 26 KB     | ##################################### | 100% \nlibxgboost-0.90      | 3.8 MB    | ##################################### | 100% \ntraitlets-5.0.5      | 81 KB     | ##################################### | 100% \ntensorflow-base-2.3. | 302.8 MB  | ####################################8 | 100% "
                }
            ],
            "source": "# notice: installing seaborn might takes a few minutes\n!conda install -c anaconda seaborn -y"
        },
        {
            "cell_type": "code",
            "execution_count": null,
            "metadata": {},
            "outputs": [],
            "source": "import seaborn as sns\n\nbins = np.linspace(df.Principal.min(), df.Principal.max(), 10)\ng = sns.FacetGrid(df, col=\"Gender\", hue=\"loan_status\", palette=\"Set1\", col_wrap=2)\ng.map(plt.hist, 'Principal', bins=bins, ec=\"k\")\n\ng.axes[-1].legend()\nplt.show()"
        },
        {
            "cell_type": "code",
            "execution_count": null,
            "metadata": {
                "button": false,
                "new_sheet": false,
                "run_control": {
                    "read_only": false
                }
            },
            "outputs": [],
            "source": "bins = np.linspace(df.age.min(), df.age.max(), 10)\ng = sns.FacetGrid(df, col=\"Gender\", hue=\"loan_status\", palette=\"Set1\", col_wrap=2)\ng.map(plt.hist, 'age', bins=bins, ec=\"k\")\n\ng.axes[-1].legend()\nplt.show()"
        },
        {
            "cell_type": "markdown",
            "metadata": {
                "button": false,
                "new_sheet": false,
                "run_control": {
                    "read_only": false
                }
            },
            "source": "# Pre-processing:  Feature selection/extraction\n"
        },
        {
            "cell_type": "markdown",
            "metadata": {
                "button": false,
                "new_sheet": false,
                "run_control": {
                    "read_only": false
                }
            },
            "source": "### Let's look at the day of the week people get the loan\n"
        },
        {
            "cell_type": "code",
            "execution_count": null,
            "metadata": {
                "button": false,
                "new_sheet": false,
                "run_control": {
                    "read_only": false
                }
            },
            "outputs": [],
            "source": "df['dayofweek'] = df['effective_date'].dt.dayofweek\nbins = np.linspace(df.dayofweek.min(), df.dayofweek.max(), 10)\ng = sns.FacetGrid(df, col=\"Gender\", hue=\"loan_status\", palette=\"Set1\", col_wrap=2)\ng.map(plt.hist, 'dayofweek', bins=bins, ec=\"k\")\ng.axes[-1].legend()\nplt.show()\n"
        },
        {
            "cell_type": "markdown",
            "metadata": {
                "button": false,
                "new_sheet": false,
                "run_control": {
                    "read_only": false
                }
            },
            "source": "We see that people who get the loan at the end of the week don't pay it off, so let's use Feature binarization to set a threshold value less than day 4\n"
        },
        {
            "cell_type": "code",
            "execution_count": null,
            "metadata": {
                "button": false,
                "new_sheet": false,
                "run_control": {
                    "read_only": false
                }
            },
            "outputs": [],
            "source": "df['weekend'] = df['dayofweek'].apply(lambda x: 1 if (x>3)  else 0)\ndf.head()"
        },
        {
            "cell_type": "markdown",
            "metadata": {
                "button": false,
                "new_sheet": false,
                "run_control": {
                    "read_only": false
                }
            },
            "source": "## Convert Categorical features to numerical values\n"
        },
        {
            "cell_type": "markdown",
            "metadata": {
                "button": false,
                "new_sheet": false,
                "run_control": {
                    "read_only": false
                }
            },
            "source": "Let's look at gender:\n"
        },
        {
            "cell_type": "code",
            "execution_count": null,
            "metadata": {
                "button": false,
                "new_sheet": false,
                "run_control": {
                    "read_only": false
                }
            },
            "outputs": [],
            "source": "df.groupby(['Gender'])['loan_status'].value_counts(normalize=True)"
        },
        {
            "cell_type": "markdown",
            "metadata": {
                "button": false,
                "new_sheet": false,
                "run_control": {
                    "read_only": false
                }
            },
            "source": "86 % of female pay there loans while only 73 % of males pay there loan\n"
        },
        {
            "cell_type": "markdown",
            "metadata": {
                "button": false,
                "new_sheet": false,
                "run_control": {
                    "read_only": false
                }
            },
            "source": "Let's convert male to 0 and female to 1:\n"
        },
        {
            "cell_type": "code",
            "execution_count": null,
            "metadata": {
                "button": false,
                "new_sheet": false,
                "run_control": {
                    "read_only": false
                }
            },
            "outputs": [],
            "source": "df['Gender'].replace(to_replace=['male','female'], value=[0,1],inplace=True)\ndf.head()"
        },
        {
            "cell_type": "markdown",
            "metadata": {
                "button": false,
                "new_sheet": false,
                "run_control": {
                    "read_only": false
                }
            },
            "source": "## One Hot Encoding\n\n#### How about education?\n"
        },
        {
            "cell_type": "code",
            "execution_count": null,
            "metadata": {
                "button": false,
                "new_sheet": false,
                "run_control": {
                    "read_only": false
                }
            },
            "outputs": [],
            "source": "df.groupby(['education'])['loan_status'].value_counts(normalize=True)"
        },
        {
            "cell_type": "markdown",
            "metadata": {
                "button": false,
                "new_sheet": false,
                "run_control": {
                    "read_only": false
                }
            },
            "source": "#### Features before One Hot Encoding\n"
        },
        {
            "cell_type": "code",
            "execution_count": null,
            "metadata": {
                "button": false,
                "new_sheet": false,
                "run_control": {
                    "read_only": false
                }
            },
            "outputs": [],
            "source": "df[['Principal','terms','age','Gender','education']].head()"
        },
        {
            "cell_type": "markdown",
            "metadata": {
                "button": false,
                "new_sheet": false,
                "run_control": {
                    "read_only": false
                }
            },
            "source": "#### Use one hot encoding technique to conver categorical varables to binary variables and append them to the feature Data Frame\n"
        },
        {
            "cell_type": "code",
            "execution_count": null,
            "metadata": {
                "button": false,
                "new_sheet": false,
                "run_control": {
                    "read_only": false
                }
            },
            "outputs": [],
            "source": "Feature = df[['Principal','terms','age','Gender','weekend']]\nFeature = pd.concat([Feature,pd.get_dummies(df['education'])], axis=1)\nFeature.drop(['Master or Above'], axis = 1,inplace=True)\nFeature.head()\n"
        },
        {
            "cell_type": "markdown",
            "metadata": {
                "button": false,
                "new_sheet": false,
                "run_control": {
                    "read_only": false
                }
            },
            "source": "### Feature Selection\n"
        },
        {
            "cell_type": "markdown",
            "metadata": {
                "button": false,
                "new_sheet": false,
                "run_control": {
                    "read_only": false
                }
            },
            "source": "Let's define feature sets, X:\n"
        },
        {
            "cell_type": "code",
            "execution_count": null,
            "metadata": {
                "button": false,
                "new_sheet": false,
                "run_control": {
                    "read_only": false
                }
            },
            "outputs": [],
            "source": "X = Feature\nX[0:5]"
        },
        {
            "cell_type": "markdown",
            "metadata": {
                "button": false,
                "new_sheet": false,
                "run_control": {
                    "read_only": false
                }
            },
            "source": "What are our lables?\n"
        },
        {
            "cell_type": "code",
            "execution_count": null,
            "metadata": {
                "button": false,
                "new_sheet": false,
                "run_control": {
                    "read_only": false
                }
            },
            "outputs": [],
            "source": "y = df['loan_status'].values\ny[0:5]"
        },
        {
            "cell_type": "markdown",
            "metadata": {
                "button": false,
                "new_sheet": false,
                "run_control": {
                    "read_only": false
                }
            },
            "source": "## Normalize Data\n"
        },
        {
            "cell_type": "markdown",
            "metadata": {
                "button": false,
                "new_sheet": false,
                "run_control": {
                    "read_only": false
                }
            },
            "source": "Data Standardization give data zero mean and unit variance (technically should be done after train test split)\n"
        },
        {
            "cell_type": "code",
            "execution_count": null,
            "metadata": {
                "button": false,
                "new_sheet": false,
                "run_control": {
                    "read_only": false
                }
            },
            "outputs": [],
            "source": "X= preprocessing.StandardScaler().fit(X).transform(X)\nX[0:5]"
        },
        {
            "cell_type": "markdown",
            "metadata": {
                "button": false,
                "new_sheet": false,
                "run_control": {
                    "read_only": false
                }
            },
            "source": "# Classification\n"
        },
        {
            "cell_type": "markdown",
            "metadata": {
                "button": false,
                "new_sheet": false,
                "run_control": {
                    "read_only": false
                }
            },
            "source": "Now, it is your turn, use the training set to build an accurate model. Then use the test set to report the accuracy of the model\nYou should use the following algorithm:\n\n*   K Nearest Neighbor(KNN)\n*   Decision Tree\n*   Support Vector Machine\n*   Logistic Regression\n\n\\__ Notice:\\__\n\n*   You can go above and change the pre-processing, feature selection, feature-extraction, and so on, to make a better model.\n*   You should use either scikit-learn, Scipy or Numpy libraries for developing the classification algorithms.\n*   You should include the code of the algorithm in the following cells.\n"
        },
        {
            "cell_type": "markdown",
            "metadata": {},
            "source": "# K Nearest Neighbor(KNN)\n\nNotice: You should find the best k to build the model with the best accuracy.\\\n**warning:** You should not use the **loan_test.csv** for finding the best k, however, you can split your train_loan.csv into train and test to find the best **k**.\n"
        },
        {
            "cell_type": "code",
            "execution_count": null,
            "metadata": {},
            "outputs": [],
            "source": "from sklearn.model_selection import train_test_split\nX_train, X_test, y_train, y_test = train_test_split( X, y, test_size=0.2, random_state=4)\nprint ('Train set:', X_train.shape,  y_train.shape)\nprint ('Test set:', X_test.shape,  y_test.shape)"
        },
        {
            "cell_type": "code",
            "execution_count": null,
            "metadata": {},
            "outputs": [],
            "source": "from sklearn.neighbors import KNeighborsClassifier\nk = 4\n#Train Model and Predict  \nneigh = KNeighborsClassifier(n_neighbors = k).fit(X_train,y_train)\nneigh\n\nyhat = neigh.predict(X_test)\nyhat[0:5]"
        },
        {
            "cell_type": "code",
            "execution_count": null,
            "metadata": {},
            "outputs": [],
            "source": "from sklearn import metrics\nprint(\"Train set Accuracy: \", metrics.accuracy_score(y_train, neigh.predict(X_train)))\nprint(\"Test set Accuracy: \", metrics.accuracy_score(y_test, yhat))"
        },
        {
            "cell_type": "markdown",
            "metadata": {},
            "source": "# Decision Tree\n"
        },
        {
            "cell_type": "code",
            "execution_count": null,
            "metadata": {},
            "outputs": [],
            "source": ""
        },
        {
            "cell_type": "code",
            "execution_count": null,
            "metadata": {},
            "outputs": [],
            "source": ""
        },
        {
            "cell_type": "code",
            "execution_count": null,
            "metadata": {},
            "outputs": [],
            "source": ""
        },
        {
            "cell_type": "markdown",
            "metadata": {},
            "source": "# Support Vector Machine\n"
        },
        {
            "cell_type": "code",
            "execution_count": null,
            "metadata": {},
            "outputs": [],
            "source": ""
        },
        {
            "cell_type": "code",
            "execution_count": null,
            "metadata": {},
            "outputs": [],
            "source": ""
        },
        {
            "cell_type": "code",
            "execution_count": null,
            "metadata": {},
            "outputs": [],
            "source": ""
        },
        {
            "cell_type": "markdown",
            "metadata": {},
            "source": "# Logistic Regression\n"
        },
        {
            "cell_type": "code",
            "execution_count": null,
            "metadata": {},
            "outputs": [],
            "source": ""
        },
        {
            "cell_type": "code",
            "execution_count": null,
            "metadata": {},
            "outputs": [],
            "source": ""
        },
        {
            "cell_type": "code",
            "execution_count": null,
            "metadata": {},
            "outputs": [],
            "source": ""
        },
        {
            "cell_type": "markdown",
            "metadata": {},
            "source": "# Model Evaluation using Test set\n"
        },
        {
            "cell_type": "code",
            "execution_count": null,
            "metadata": {},
            "outputs": [],
            "source": "from sklearn.metrics import jaccard_score\nfrom sklearn.metrics import f1_score\nfrom sklearn.metrics import log_loss\n"
        },
        {
            "cell_type": "markdown",
            "metadata": {},
            "source": "First, download and load the test set:\n"
        },
        {
            "cell_type": "code",
            "execution_count": null,
            "metadata": {},
            "outputs": [],
            "source": "!wget -O loan_test.csv https://s3-api.us-geo.objectstorage.softlayer.net/cf-courses-data/CognitiveClass/ML0101ENv3/labs/loan_test.csv"
        },
        {
            "cell_type": "markdown",
            "metadata": {
                "button": false,
                "new_sheet": false,
                "run_control": {
                    "read_only": false
                }
            },
            "source": "### Load Test set for evaluation\n"
        },
        {
            "cell_type": "code",
            "execution_count": null,
            "metadata": {
                "button": false,
                "new_sheet": false,
                "run_control": {
                    "read_only": false
                }
            },
            "outputs": [],
            "source": "test_df = pd.read_csv('loan_test.csv')\ntest_df.head()"
        },
        {
            "cell_type": "code",
            "execution_count": null,
            "metadata": {},
            "outputs": [],
            "source": ""
        },
        {
            "cell_type": "code",
            "execution_count": null,
            "metadata": {},
            "outputs": [],
            "source": ""
        },
        {
            "cell_type": "code",
            "execution_count": null,
            "metadata": {},
            "outputs": [],
            "source": ""
        },
        {
            "cell_type": "markdown",
            "metadata": {},
            "source": "# Report\n\nYou should be able to report the accuracy of the built model using different evaluation metrics:\n"
        },
        {
            "cell_type": "markdown",
            "metadata": {},
            "source": "| Algorithm          | Jaccard | F1-score | LogLoss |\n|--------------------|---------|----------|---------|\n| KNN                | ?       | ?        | NA      |\n| Decision Tree      | ?       | ?        | NA      |\n| SVM                | ?       | ?        | NA      |\n| LogisticRegression | ?       | ?        | ?       |\n"
        },
        {
            "cell_type": "markdown",
            "metadata": {
                "button": false,
                "new_sheet": false,
                "run_control": {
                    "read_only": false
                }
            },
            "source": "<h2>Want to learn more?</h2>\n\nIBM SPSS Modeler is a comprehensive analytics platform that has many machine learning algorithms. It has been designed to bring predictive intelligence to decisions made by individuals, by groups, by systems \u2013 by your enterprise as a whole. A free trial is available through this course, available here: <a href=\"http://cocl.us/ML0101EN-SPSSModeler?utm_medium=Exinfluencer&utm_source=Exinfluencer&utm_content=000026UJ&utm_term=10006555&utm_id=NA-SkillsNetwork-Channel-SkillsNetworkCoursesIBMDeveloperSkillsNetworkML0101ENSkillsNetwork20718538-2021-01-01\">SPSS Modeler</a>\n\nAlso, you can use Watson Studio to run these notebooks faster with bigger datasets. Watson Studio is IBM's leading cloud solution for data scientists, built by data scientists. With Jupyter notebooks, RStudio, Apache Spark and popular libraries pre-packaged in the cloud, Watson Studio enables data scientists to collaborate on their projects without having to install anything. Join the fast-growing community of Watson Studio users today with a free account at <a href=\"https://cocl.us/ML0101EN_DSX?utm_medium=Exinfluencer&utm_source=Exinfluencer&utm_content=000026UJ&utm_term=10006555&utm_id=NA-SkillsNetwork-Channel-SkillsNetworkCoursesIBMDeveloperSkillsNetworkML0101ENSkillsNetwork20718538-2021-01-01\">Watson Studio</a>\n\n<h3>Thanks for completing this lesson!</h3>\n\n<h4>Author:  <a href=\"https://ca.linkedin.com/in/saeedaghabozorgi?utm_medium=Exinfluencer&utm_source=Exinfluencer&utm_content=000026UJ&utm_term=10006555&utm_id=NA-SkillsNetwork-Channel-SkillsNetworkCoursesIBMDeveloperSkillsNetworkML0101ENSkillsNetwork20718538-2021-01-01?utm_medium=Exinfluencer&utm_source=Exinfluencer&utm_content=000026UJ&utm_term=10006555&utm_id=NA-SkillsNetwork-Channel-SkillsNetworkCoursesIBMDeveloperSkillsNetworkML0101ENSkillsNetwork20718538-2021-01-01\">Saeed Aghabozorgi</a></h4>\n<p><a href=\"https://ca.linkedin.com/in/saeedaghabozorgi\">Saeed Aghabozorgi</a>, PhD is a Data Scientist in IBM with a track record of developing enterprise level applications that substantially increases clients\u2019 ability to turn data into actionable knowledge. He is a researcher in data mining field and expert in developing advanced analytic methods like machine learning and statistical modelling on large datasets.</p>\n\n<hr>\n\n## Change Log\n\n| Date (YYYY-MM-DD) | Version | Changed By | Change Description |\n|---|---|---|---|\n| 2020-10-27 | 2.1 | Lakshmi Holla | Made changes in import statement due to updates in version of  sklearn library |\n| 2020-08-27 | 2.0 | Malika Singla | Added lab to GitLab |\n\n<hr>\n\n## <h3 align=\"center\"> \u00a9 IBM Corporation 2020. All rights reserved. <h3/>\n\n<p>\n"
        }
    ],
    "metadata": {
        "kernelspec": {
            "display_name": "Python 3.7",
            "language": "python",
            "name": "python3"
        },
        "language_info": {
            "codemirror_mode": {
                "name": "ipython",
                "version": 3
            },
            "file_extension": ".py",
            "mimetype": "text/x-python",
            "name": "python",
            "nbconvert_exporter": "python",
            "pygments_lexer": "ipython3",
            "version": "3.7.10"
        }
    },
    "nbformat": 4,
    "nbformat_minor": 2
}